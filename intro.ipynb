{
  "cells": [
    {
      "cell_type": "markdown",
      "metadata": {},
      "source": [
        "Erzeugen Sie ein paar Variablen unterschiedlicher Datentypen, denen Sie entsprechende Werte zuweisen\n",
        " * Zahlen\n",
        " * Zeichenketten\n",
        " * boolesche Werte\n",
        " * Tupel\n",
        " * Wörterbücher\n",
        " * ..."
      ]
    },
    {
      "cell_type": "code",
      "execution_count": 5,
      "metadata": {
        "trusted": true
      },
      "outputs": [
        {
          "name": "stdout",
          "output_type": "stream",
          "text": [
            "42\n",
            "2\n",
            "foo\n"
          ]
        }
      ],
      "source": [
        "a= 42\n",
        "b = \"foo\"\n",
        "c = (1,2,3)\n",
        "d = [1, True, 3.42]\n",
        "e = {0: a, 1: b}\n",
        "print(a)\n",
        "print(c[1])\n",
        "print(e[1])"
      ]
    },
    {
      "cell_type": "markdown",
      "metadata": {},
      "source": [
        "Erzeugen Sie eine Liste mit den Zahlen von 1 bis 42"
      ]
    },
    {
      "cell_type": "code",
      "execution_count": 10,
      "metadata": {
        "trusted": true
      },
      "outputs": [
        {
          "name": "stdout",
          "output_type": "stream",
          "text": [
            "[1, 2, 3, 4, 5, 6, 7, 8, 9, 10, 11, 12, 13, 14, 15, 16, 17, 18, 19, 20, 21, 22, 23, 24, 25, 26, 27, 28, 29, 30, 31, 32, 33, 34, 35, 36, 37, 38, 39, 40, 41, 42]\n",
            "[1, 2, 3, 4, 5, 6, 7, 8, 9, 10, 11, 12, 13, 14, 15, 16, 17, 18, 19, 20, 21, 22, 23, 24, 25, 26, 27, 28, 29, 30, 31, 32, 33, 34, 35, 36, 37, 38, 39, 40, 41, 42]\n",
            "[1, 2, 3, 4, 5, 6, 7, 8, 9, 10, 11, 12, 13, 14, 15, 16, 17, 18, 19, 20, 21, 22, 23, 24, 25, 26, 27, 28, 29, 30, 31, 32, 33, 34, 35, 36, 37, 38, 39, 40, 41, 42]\n"
          ]
        }
      ],
      "source": [
        "l = []\n",
        "for i in range(1,43):\n",
        "    l.append(i)\n",
        "l2 = [i for i in range(1,43)]\n",
        "l3 = list(range(1,43))\n",
        "print(l)\n",
        "print(l2)\n",
        "print(l3)"
      ]
    },
    {
      "cell_type": "markdown",
      "metadata": {},
      "source": [
        "Verwenden Sie ihre Liste, um alle ungeraden Zahlen aus dem Intervall [1,42] am Bildschirm auszugeben, verwenden Sie dazu Schleifen und Verzweigungen. Probieren Sie unterschiedliche Schleifen aus ..."
      ]
    },
    {
      "cell_type": "code",
      "execution_count": 12,
      "metadata": {
        "trusted": true
      },
      "outputs": [
        {
          "name": "stdout",
          "output_type": "stream",
          "text": [
            "1\n",
            "3\n",
            "5\n",
            "7\n",
            "9\n",
            "11\n",
            "13\n",
            "15\n",
            "17\n",
            "19\n",
            "21\n",
            "23\n",
            "25\n",
            "27\n",
            "29\n",
            "31\n",
            "33\n",
            "35\n",
            "37\n",
            "39\n",
            "41\n"
          ]
        }
      ],
      "source": [
        "for i in l:\n",
        "    if i%2 != 0:\n",
        "        print(i)"
      ]
    },
    {
      "cell_type": "markdown",
      "metadata": {},
      "source": [
        "Definieren Sie jetzt eine Liste der Zweierpotenzen 2^n für Zahlen n von 1 bis 100, nutzern Sie dafür List Comprehension"
      ]
    },
    {
      "cell_type": "code",
      "execution_count": 1,
      "metadata": {
        "trusted": true
      },
      "outputs": [
        {
          "name": "stdout",
          "output_type": "stream",
          "text": [
            "[2, 4, 8, 16, 32, 64, 128, 256, 512, 1024, 2048, 4096, 8192, 16384, 32768, 65536, 131072, 262144, 524288, 1048576, 2097152, 4194304, 8388608, 16777216, 33554432, 67108864, 134217728, 268435456, 536870912, 1073741824, 2147483648, 4294967296, 8589934592, 17179869184, 34359738368, 68719476736, 137438953472, 274877906944, 549755813888, 1099511627776, 2199023255552, 4398046511104, 8796093022208, 17592186044416, 35184372088832, 70368744177664, 140737488355328, 281474976710656, 562949953421312, 1125899906842624, 2251799813685248, 4503599627370496, 9007199254740992, 18014398509481984, 36028797018963968, 72057594037927936, 144115188075855872, 288230376151711744, 576460752303423488, 1152921504606846976, 2305843009213693952, 4611686018427387904, 9223372036854775808, 18446744073709551616, 36893488147419103232, 73786976294838206464, 147573952589676412928, 295147905179352825856, 590295810358705651712, 1180591620717411303424, 2361183241434822606848, 4722366482869645213696, 9444732965739290427392, 18889465931478580854784, 37778931862957161709568, 75557863725914323419136, 151115727451828646838272, 302231454903657293676544, 604462909807314587353088, 1208925819614629174706176, 2417851639229258349412352, 4835703278458516698824704, 9671406556917033397649408, 19342813113834066795298816, 38685626227668133590597632, 77371252455336267181195264, 154742504910672534362390528, 309485009821345068724781056, 618970019642690137449562112, 1237940039285380274899124224, 2475880078570760549798248448, 4951760157141521099596496896, 9903520314283042199192993792, 19807040628566084398385987584, 39614081257132168796771975168, 79228162514264337593543950336, 158456325028528675187087900672, 316912650057057350374175801344, 633825300114114700748351602688, 1267650600228229401496703205376]\n"
          ]
        }
      ],
      "source": [
        "print([2**i for i in range(1, 101)])"
      ]
    },
    {
      "cell_type": "markdown",
      "metadata": {},
      "source": [
        "Gegeben sei eine Liste `a = ['Ich', 'mag', 'Kuchen']` und eine weitere Liste `b = a`. Ersetzen Sie `Kuchen` mit `Orangen` in der Liste `b` und geben Sie beide Listen am Bildschirm aus. Was können Sie dabei beobachten? Warum?"
      ]
    },
    {
      "cell_type": "code",
      "execution_count": null,
      "metadata": {
        "trusted": true
      },
      "outputs": [
        {
          "name": "stdout",
          "output_type": "stream",
          "text": [
            "['Ich', 'mag', 'Orangen']\n",
            "['Ich', 'mag', 'Orangen']\n"
          ]
        }
      ],
      "source": [
        "a = [\"Ich\", \"mag\", \"Kuchen\"]\n",
        "b = a\n",
        "\n",
        "i = b.index(\"Kuchen\")\n",
        "b[i] = \"Orangen\"\n",
        "\n",
        "print(a)\n",
        "print(b)"
      ]
    },
    {
      "cell_type": "markdown",
      "metadata": {},
      "source": [
        "Gegeben sei wieder eine Liste `a = ['Ich', 'mag', 'Kuchen']` und eine weitere Liste `b = a[:]`. Ersetzen Sie wieder `Kuchen` mit `Orangen` in der Liste `b` und geben Sie beide Listen am Bildschirm aus. Was können Sie nun dabei beobachten? Warum?"
      ]
    },
    {
      "cell_type": "code",
      "execution_count": 3,
      "metadata": {
        "trusted": true
      },
      "outputs": [
        {
          "name": "stdout",
          "output_type": "stream",
          "text": [
            "['Ich', 'mag', 'Kuchen']\n",
            "['Ich', 'mag', 'Orangen']\n"
          ]
        }
      ],
      "source": [
        "a = [\"Ich\", \"mag\", \"Kuchen\"]\n",
        "b = a[:]\n",
        "\n",
        "i = b.index(\"Kuchen\")\n",
        "b[i] = \"Orangen\"\n",
        "\n",
        "print(a)\n",
        "print(b)"
      ]
    },
    {
      "cell_type": "code",
      "execution_count": 4,
      "metadata": {
        "trusted": true
      },
      "outputs": [],
      "source": [
        "from copy import deepcopy"
      ]
    },
    {
      "cell_type": "markdown",
      "metadata": {},
      "source": [
        "Gegeben sei wieder eine Liste `a = ['Ich', 'mag', 'Kuchen']` und eine weitere Liste `b = deepcopy(a)`. Ersetzen Sie noch einmal `Kuchen` mit `Orangen` in der Liste `b` und geben Sie beide Listen am Bildschirm aus. Was können Sie jetzt dabei beobachten? Warum?"
      ]
    },
    {
      "cell_type": "code",
      "execution_count": 5,
      "metadata": {
        "trusted": true
      },
      "outputs": [
        {
          "name": "stdout",
          "output_type": "stream",
          "text": [
            "['Ich', 'mag', 'Kuchen']\n",
            "['Ich', 'mag', 'Orangen']\n"
          ]
        }
      ],
      "source": [
        "a = [\"Ich\", \"mag\", \"Kuchen\"]\n",
        "b = deepcopy(a)\n",
        "\n",
        "i = b.index(\"Kuchen\")\n",
        "b[i] = \"Orangen\"\n",
        "\n",
        "print(a)\n",
        "print(b)"
      ]
    },
    {
      "cell_type": "markdown",
      "metadata": {},
      "source": [
        "Erzeugen Sie ein Wörterbuch mit n Einträgen, so dass die Schlüssel von 0 bis (n-1) durchnummeriert werden und die Werte die Quadrate der Schlüssel sind, nutzen Sie dazu wieder List Comprehension"
      ]
    },
    {
      "cell_type": "code",
      "execution_count": 6,
      "metadata": {
        "trusted": true
      },
      "outputs": [
        {
          "name": "stdout",
          "output_type": "stream",
          "text": [
            "{0: 0, 1: 1, 2: 4, 3: 9, 4: 16, 5: 25, 6: 36, 7: 49, 8: 64, 9: 81, 10: 100, 11: 121, 12: 144, 13: 169, 14: 196, 15: 225, 16: 256, 17: 289, 18: 324, 19: 361, 20: 400, 21: 441, 22: 484, 23: 529, 24: 576, 25: 625, 26: 676, 27: 729, 28: 784, 29: 841, 30: 900, 31: 961, 32: 1024, 33: 1089, 34: 1156, 35: 1225, 36: 1296, 37: 1369, 38: 1444, 39: 1521, 40: 1600, 41: 1681, 42: 1764, 43: 1849, 44: 1936, 45: 2025, 46: 2116, 47: 2209, 48: 2304, 49: 2401, 50: 2500, 51: 2601, 52: 2704, 53: 2809, 54: 2916, 55: 3025, 56: 3136, 57: 3249, 58: 3364, 59: 3481, 60: 3600, 61: 3721, 62: 3844, 63: 3969, 64: 4096, 65: 4225, 66: 4356, 67: 4489, 68: 4624, 69: 4761, 70: 4900, 71: 5041, 72: 5184, 73: 5329, 74: 5476, 75: 5625, 76: 5776, 77: 5929, 78: 6084, 79: 6241, 80: 6400, 81: 6561, 82: 6724, 83: 6889, 84: 7056, 85: 7225, 86: 7396, 87: 7569, 88: 7744, 89: 7921, 90: 8100, 91: 8281, 92: 8464, 93: 8649, 94: 8836, 95: 9025, 96: 9216, 97: 9409, 98: 9604, 99: 9801}\n"
          ]
        }
      ],
      "source": [
        "n = 100\n",
        "\n",
        "l = {i: i*i for i in range(0, n)}\n",
        "\n",
        "print(l)"
      ]
    },
    {
      "cell_type": "markdown",
      "metadata": {},
      "source": [
        "Verwenden Sie das Wörterbuch von eben um eine Liste der Schlüssel des Wörterbuchs zu erzeugen"
      ]
    },
    {
      "cell_type": "code",
      "execution_count": null,
      "metadata": {
        "trusted": true
      },
      "outputs": [
        {
          "name": "stdout",
          "output_type": "stream",
          "text": [
            "dict_keys([0, 1, 2, 3, 4, 5, 6, 7, 8, 9, 10, 11, 12, 13, 14, 15, 16, 17, 18, 19, 20, 21, 22, 23, 24, 25, 26, 27, 28, 29, 30, 31, 32, 33, 34, 35, 36, 37, 38, 39, 40, 41, 42, 43, 44, 45, 46, 47, 48, 49, 50, 51, 52, 53, 54, 55, 56, 57, 58, 59, 60, 61, 62, 63, 64, 65, 66, 67, 68, 69, 70, 71, 72, 73, 74, 75, 76, 77, 78, 79, 80, 81, 82, 83, 84, 85, 86, 87, 88, 89, 90, 91, 92, 93, 94, 95, 96, 97, 98, 99])\n"
          ]
        }
      ],
      "source": [
        "print(l.keys())"
      ]
    },
    {
      "cell_type": "markdown",
      "metadata": {},
      "source": [
        "Nutzen Sie List Comprehension um eine Liste der geraden Zahlen im Intervall [0,100] zu erzeugen"
      ]
    },
    {
      "cell_type": "code",
      "execution_count": 9,
      "metadata": {
        "trusted": true
      },
      "outputs": [
        {
          "name": "stdout",
          "output_type": "stream",
          "text": [
            "[0, 2, 4, 6, 8, 10, 12, 14, 16, 18, 20, 22, 24, 26, 28, 30, 32, 34, 36, 38, 40, 42, 44, 46, 48, 50, 52, 54, 56, 58, 60, 62, 64, 66, 68, 70, 72, 74, 76, 78, 80, 82, 84, 86, 88, 90, 92, 94, 96, 98]\n"
          ]
        }
      ],
      "source": [
        "l = [i for i in range(0, 100) if i % 2 == 0]\n",
        "\n",
        "print(l)"
      ]
    },
    {
      "cell_type": "markdown",
      "metadata": {},
      "source": [
        "Schreiben Sie zunächst eine Funktion, die eine Zahl n in Grad Celcius in Grad Fahrenheit umwandelt. Nutzen Sie dann die `map`-Funktion um die Liste mit Werten von [0,100] von Grad Celius in Grad Fahrenheit umzurechnen"
      ]
    },
    {
      "cell_type": "code",
      "execution_count": 11,
      "metadata": {
        "trusted": true
      },
      "outputs": [
        {
          "name": "stdout",
          "output_type": "stream",
          "text": [
            "[32.0, 33.8, 35.6, 37.4, 39.2, 41.0, 42.8, 44.6, 46.4, 48.2, 50.0, 51.8, 53.6, 55.4, 57.2, 59.0, 60.8, 62.6, 64.4, 66.2, 68.0, 69.8, 71.6, 73.4, 75.2, 77.0, 78.8, 80.6, 82.4, 84.2, 86.0, 87.8, 89.6, 91.4, 93.2, 95.0, 96.8, 98.6, 100.4, 102.2, 104.0, 105.8, 107.6, 109.4, 111.2, 113.0, 114.8, 116.6, 118.4, 120.2, 122.0, 123.8, 125.6, 127.4, 129.2, 131.0, 132.8, 134.6, 136.4, 138.2, 140.0, 141.8, 143.6, 145.4, 147.2, 149.0, 150.8, 152.6, 154.4, 156.2, 158.0, 159.8, 161.6, 163.4, 165.2, 167.0, 168.8, 170.6, 172.4, 174.2, 176.0, 177.8, 179.6, 181.4, 183.2, 185.0, 186.8, 188.6, 190.4, 192.2, 194.0, 195.8, 197.6, 199.4, 201.2, 203.0, 204.8, 206.6, 208.4, 210.2]\n"
          ]
        }
      ],
      "source": [
        "def f(c):\n",
        "    return (c * 9/5) + 32\n",
        "\n",
        "l = list(map(f, list(range(0, 100))))\n",
        "\n",
        "print(l)"
      ]
    },
    {
      "cell_type": "markdown",
      "metadata": {},
      "source": [
        "Nutzen Sie die `filter`-Funktion, um die oben berechneten Temperaturwerte in Grad Fahrenheit anschließend auf Werte größer 100 Grad Fahrenheit einzuschränken"
      ]
    },
    {
      "cell_type": "code",
      "execution_count": 15,
      "metadata": {
        "trusted": true
      },
      "outputs": [
        {
          "name": "stdout",
          "output_type": "stream",
          "text": [
            "[100.4, 102.2, 104.0, 105.8, 107.6, 109.4, 111.2, 113.0, 114.8, 116.6, 118.4, 120.2, 122.0, 123.8, 125.6, 127.4, 129.2, 131.0, 132.8, 134.6, 136.4, 138.2, 140.0, 141.8, 143.6, 145.4, 147.2, 149.0, 150.8, 152.6, 154.4, 156.2, 158.0, 159.8, 161.6, 163.4, 165.2, 167.0, 168.8, 170.6, 172.4, 174.2, 176.0, 177.8, 179.6, 181.4, 183.2, 185.0, 186.8, 188.6, 190.4, 192.2, 194.0, 195.8, 197.6, 199.4, 201.2, 203.0, 204.8, 206.6, 208.4, 210.2]\n"
          ]
        }
      ],
      "source": [
        "filtered = list(filter(lambda f: f > 100, l))\n",
        "\n",
        "print(filtered)"
      ]
    },
    {
      "cell_type": "markdown",
      "metadata": {},
      "source": [
        "Wie lässt sich die daraus ergebende Liste dann auf die Summe der darin enthaltenen Temperaturwerte reduzieren?"
      ]
    },
    {
      "cell_type": "code",
      "execution_count": 16,
      "metadata": {
        "trusted": true
      },
      "outputs": [
        {
          "name": "stdout",
          "output_type": "stream",
          "text": [
            "9628.6\n"
          ]
        }
      ],
      "source": [
        "print(sum(filtered))"
      ]
    },
    {
      "cell_type": "markdown",
      "metadata": {},
      "source": [
        "Definieren Sie eine Funktion, um eine Liste umzudrehen und zurückzugeben (Verwenden Sie dazu nicht die Funktion `reverse`)"
      ]
    },
    {
      "cell_type": "code",
      "execution_count": 17,
      "metadata": {
        "trusted": true
      },
      "outputs": [
        {
          "name": "stdout",
          "output_type": "stream",
          "text": [
            "[4, 3, 2, 1]\n"
          ]
        }
      ],
      "source": [
        "def rev(l):\n",
        "    return [l[i] for i in range(len(l) - 1, -1, -1)]\n",
        "\n",
        "print(rev([1, 2, 3, 4]))"
      ]
    },
    {
      "cell_type": "markdown",
      "metadata": {},
      "source": [
        "Gegeben sind zwei Listen `x=[1,2,3,4,5,6,7,8,9]` und `y=[4,5,6,7,8,9,10,11,12]`, wobei `x` die x-Koordinaten und `y` die y-Koordinaten von Punkten der Ebene beschreibt. Erstellen Sie eine Liste von Paaren (Tupeln), wobei jedes Paar einen Punkt bestehend aus x- und y-Koordinate ist"
      ]
    },
    {
      "cell_type": "code",
      "execution_count": 18,
      "metadata": {
        "trusted": true
      },
      "outputs": [
        {
          "name": "stdout",
          "output_type": "stream",
          "text": [
            "[(1, 4), (2, 5), (3, 6), (4, 7), (5, 8), (6, 9), (7, 10), (8, 11), (9, 12)]\n"
          ]
        }
      ],
      "source": [
        "x = [1,2,3,4,5,6,7,8,9]\n",
        "y = [4,5,6,7,8,9,10,11,12]\n",
        "\n",
        "l = [(x[i], y[i]) for i in range(len(x))]\n",
        "\n",
        "print(l)"
      ]
    },
    {
      "cell_type": "markdown",
      "metadata": {},
      "source": [
        "Jetzt ist die Umkehrung gesucht, schreiben Sie eine Funktion, die für eine Liste von Paaren (bspw. Punkte) die zwei Listen mit den Paarkomponenten (bspw. x/y-Koordinaten) liefert"
      ]
    },
    {
      "cell_type": "code",
      "execution_count": 19,
      "metadata": {
        "trusted": true
      },
      "outputs": [
        {
          "name": "stdout",
          "output_type": "stream",
          "text": [
            "([1, 2, 3, 4, 5, 6, 7, 8, 9], [4, 5, 6, 7, 8, 9, 10, 11, 12])\n"
          ]
        }
      ],
      "source": [
        "def extract(l):\n",
        "    x = [i[0] for i in l]\n",
        "    y = [i[1] for i in l]\n",
        "    return (x, y)\n",
        "\n",
        "print(extract(l))"
      ]
    },
    {
      "cell_type": "markdown",
      "metadata": {},
      "source": [
        "Implementieren Sie eine Klasse für Punkte. Ein Punkt hat eine x- und y-Koordinate, definieren Sie einen entsprechenden Konstruktor. Weiterhin soll es eine Methode `setXY` geben, die die x- und y-Koordinate auf die zwei als Parameter übergebenen Werte setzt. Analog soll eine Methode `getXY` die x- und y-Koordinate liefern. Schließlich berechnet eine weitere Methode `distance` den Abstand zwischen zwei Punkten"
      ]
    },
    {
      "cell_type": "code",
      "execution_count": null,
      "metadata": {
        "trusted": true
      },
      "outputs": [
        {
          "name": "stdout",
          "output_type": "stream",
          "text": [
            "(1, 2)\n",
            "3.605551275463989\n"
          ]
        }
      ],
      "source": [
        "from math import sqrt\n",
        "\n",
        "class Point:\n",
        "    def __init__(self, x, y):\n",
        "        self.x = x\n",
        "        self.y = y\n",
        "\n",
        "    def setXY(self, x, y):\n",
        "        self.x = x\n",
        "        self.y = y\n",
        "\n",
        "    def getXY(self):\n",
        "        return (self.x, self.y)\n",
        "    \n",
        "    def distance(self, p):\n",
        "        if not isinstance(p, Point):\n",
        "            raise Exception(\"not a point you idiot\")\n",
        "        diff = (self.x - p.x, self.y - p.y)\n",
        "        return sqrt(diff[0]**2 + diff[1]**2)\n",
        "    \n",
        "p1 = Point(1, 2)\n",
        "p2 = Point(0, 0)\n",
        "p2.setXY(4, 4)\n",
        "\n",
        "print(p1.getXY())\n",
        "print(p1.distance(p2))"
      ]
    },
    {
      "cell_type": "markdown",
      "metadata": {},
      "source": [
        "Setzen Sie eine weitere Klasse für geometrische Figuren in der Ebene um. Der Konstruktor der Klasse erhält den Namen der Figur und die Farbe als Parameter. Die Klasse soll weiterhin zwei Methoden umsetzen, die jeweils den Flächeninhalt und Umfang der Figur berechnen. Implementieren Sie dann eine Unterklasse für Rechtecke, die die Methoden zur Berechnung des Flächeninhalts und Umfangs überschreiben."
      ]
    },
    {
      "cell_type": "code",
      "execution_count": 27,
      "metadata": {
        "trusted": true
      },
      "outputs": [
        {
          "name": "stdout",
          "output_type": "stream",
          "text": [
            "117\n",
            "44\n",
            "not implemented\n"
          ]
        }
      ],
      "source": [
        "class Shape:\n",
        "    def __init__(self, name, color):\n",
        "        self.name = name\n",
        "        self.color = color\n",
        "\n",
        "    def area(self):\n",
        "        raise Exception(\"not implemented\")\n",
        "\n",
        "    def circumference(self):\n",
        "        raise Exception(\"not implemented\")\n",
        "    \n",
        "class Rectangle(Shape):\n",
        "    def __init__(self, name, color, a, b):\n",
        "        Shape.__init__(self, name, color)\n",
        "        self.a = a\n",
        "        self.b = b\n",
        "\n",
        "    def area(self):\n",
        "        return self.a * self.b\n",
        "\n",
        "    def circumference(self):\n",
        "        return 2 * self.a + 2 * self.b\n",
        "    \n",
        "r = Rectangle(\"rect\", \"#ff0000\", 13, 9)\n",
        "\n",
        "print(r.area())\n",
        "print(r.circumference())\n",
        "\n",
        "s = Shape(\"shape\", \"#00ff00\")\n",
        "\n",
        "try:\n",
        "    s.area()\n",
        "except Exception as e:\n",
        "    print(e)"
      ]
    }
  ],
  "metadata": {
    "kernelspec": {
      "display_name": "Python 3",
      "language": "python",
      "name": "python3"
    },
    "language_info": {
      "codemirror_mode": {
        "name": "ipython",
        "version": 3
      },
      "file_extension": ".py",
      "mimetype": "text/x-python",
      "name": "python",
      "nbconvert_exporter": "python",
      "pygments_lexer": "ipython3",
      "version": "3.13.0"
    }
  },
  "nbformat": 4,
  "nbformat_minor": 4
}
