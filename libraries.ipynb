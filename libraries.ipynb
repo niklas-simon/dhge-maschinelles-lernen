{
  "cells": [
    {
      "cell_type": "markdown",
      "metadata": {},
      "source": [
        "Machen sie sich mit der numpy-Bibliothek vertraut, sie können dazu beispielsweise das Nutzerhandbuch unter https://numpy.org/doc/stable/user verwenden. Bearbeiten sie dann folgende Aufgaben:\n",
        " * Erstellen sie eine numpy-Reihung von Gleitkommazahlen mit den Zahlen von 0 bis 4\n",
        " * Erzeugen sie die folgende numpy-Matrix `M = [[1,2,3], [4,5,6]]`\n",
        " * Fragen sie die Dimensionen der Matrix ab\n",
        " * Prüfen sie ob der Wert 2 als Element in der Matrix enthalten ist\n",
        " * Gegeben sei die Reihung `a = np.array([0,1,2,3,4,5,6,7,8,9], float)`, änder sie die Dimension in eine 5x2-Matrix ab\n",
        " * Transponieren sie dann die Matrix `M`\n",
        " * Wandeln sie die Matrix in eine Reihung ab\n",
        " * Gegeben sei die Reihung `b = np.array([0,1,2,3], float)`, erhöhen sie die Dimension der Reihung\n",
        " * Generieren sie eine 3x3 Identitätsmatrix"
      ]
    },
    {
      "cell_type": "code",
      "execution_count": 1,
      "metadata": {
        "trusted": true
      },
      "outputs": [],
      "source": [
        "import numpy as np"
      ]
    },
    {
      "cell_type": "code",
      "execution_count": 2,
      "metadata": {
        "trusted": true
      },
      "outputs": [
        {
          "name": "stdout",
          "output_type": "stream",
          "text": [
            "[0 1 2 3 4]\n",
            "[[1 2 3]\n",
            " [4 5 6]]\n",
            "2\n",
            "(array([0]), array([1]))\n",
            "[[0. 1.]\n",
            " [2. 3.]\n",
            " [4. 5.]\n",
            " [6. 7.]\n",
            " [8. 9.]]\n",
            "[[1 4]\n",
            " [2 5]\n",
            " [3 6]]\n",
            "[1 2 3 4 5 6]\n",
            "[[0. 1. 2. 3.]\n",
            " [0. 0. 0. 0.]]\n",
            "[[1. 0. 0.]\n",
            " [0. 1. 0.]\n",
            " [0. 0. 1.]]\n"
          ]
        }
      ],
      "source": [
        "print(np.arange(5))\n",
        "\n",
        "m = np.arange(1, 7).reshape(2, 3)\n",
        "print(m)\n",
        "print(m.ndim)\n",
        "print(np.where(m == 2))\n",
        "\n",
        "a = np.array([0,1,2,3,4,5,6,7,8,9], float)\n",
        "print(a.reshape(5, 2))\n",
        "\n",
        "print(m.transpose())\n",
        "print(m.flatten())\n",
        "\n",
        "b = np.array([0,1,2,3], float)\n",
        "b.resize(2, len(b))\n",
        "print(b)\n",
        "\n",
        "print(np.identity(3))"
      ]
    },
    {
      "cell_type": "markdown",
      "metadata": {},
      "source": [
        "Lösen sie die folgenden weiteren aufgaben mit Numpy:\n",
        " * Gegeben seien die folgenden zwei Reihungen `a = np.array([1,2,3], float)` und `b = np.array([4,5,6], float)`, berechnen sie das Skalarprodukt von `a` und `b`\n",
        " * Gegeben sei die Matrix `M = [[1,2,3], [4,5,6], [7,8,9]]`, berechnen sie die Determinante der Matrix indem sie das `linalg`-Paket der Numpy-Bibliothek verwenden\n",
        " * Berechnen sie auch die Eigenwerte und -vektoren der Matrix `M`\n",
        " * Berechnen sie die Inverse der Matrix\n",
        " * Gegeben sei die Reihung `c = np.array([1,4,3,8,3,2,3], float)`, berechnen sie den Mittelwert der Reihungselemente\n",
        " * Berechnen sie den Median der Reihungselemente"
      ]
    },
    {
      "cell_type": "code",
      "execution_count": 3,
      "metadata": {
        "trusted": true
      },
      "outputs": [],
      "source": [
        "from numpy import linalg as LA"
      ]
    },
    {
      "cell_type": "code",
      "execution_count": 4,
      "metadata": {
        "trusted": true
      },
      "outputs": [
        {
          "name": "stdout",
          "output_type": "stream",
          "text": [
            "32.0\n",
            "0.0\n",
            "[ 1.61168440e+01 -1.11684397e+00 -9.75918483e-16]\n",
            "[[-0.23197069 -0.78583024  0.40824829]\n",
            " [-0.52532209 -0.08675134 -0.81649658]\n",
            " [-0.8186735   0.61232756  0.40824829]]\n",
            "3.4285714285714284\n",
            "3.0\n"
          ]
        }
      ],
      "source": [
        "a = np.array([1, 2, 3], float)\n",
        "b = np.array([4, 5, 6], float)\n",
        "print(np.dot(a, b))\n",
        "\n",
        "m = np.matrix([[1,2,3],[4,5,6],[7,8,9]])\n",
        "print(LA.det(m))\n",
        "\n",
        "print(LA.eig(m).eigenvalues)\n",
        "print(LA.eig(m).eigenvectors)\n",
        "\n",
        "#print(LA.inv(m))\n",
        "\n",
        "c = np.array([1,4,3,8,3,2,3], float)\n",
        "print(np.average(c))\n",
        "print(np.median(c))"
      ]
    },
    {
      "cell_type": "markdown",
      "metadata": {},
      "source": [
        "Im Anschluss wollen wir uns auch mit der Visualisierung mit der Bibliothek Matplotlib (siehe auch: https://matplotlib.org/stable/users/index) vertraut machen, lösen sie dazu folgende Aufgaben:\n",
        " * Gegeben sei folgende Liste von Datenpunkten `dpts = [(3,3),(4,5),(4.5,6),(9,7)]`, erzeugen sie ein Diagramm mit\n",
        "   der Funktion `plt.plot(xcoors, ycoors)`\n",
        " * Gegeben sind die zwei Reihungen `c = [(1,2),(3,1),(0,1),(2,2)]` \u0000und `\u0000d = [(12,9),(8,10),(11,11),(14,13)]`, \n",
        "   stellen sie diese mit Hilfe eines Scatterplots graphisch dar unter Verwendung der Funktion `plt.scatter(xcoors, ycoors)`, \n",
        "   wobei `c` und `d` unterschiedliche Farben haben sollen. Die x-Koordinaten sollen die Zeitdauer eines Einkaufs sein und die y-Koordinaten\n",
        "   die beim Einkauf ausgegebene Geldmenge, erzeugen sie auch entsprechende Achsenbeschriftungen\n",
        " * Berechnen sie für die zwei Reihungen `c\u0000` und `\u0000d` auch die paarweisen Abstände und speichern sie diese in einer Matrix, visualisieren\n",
        "   sie die Matrix als Heatmap unter Verwendung der Funktion `plt.imshow(matrix, cmap='coolwarm')`\n"
      ]
    },
    {
      "cell_type": "code",
      "execution_count": 5,
      "metadata": {
        "trusted": true
      },
      "outputs": [],
      "source": [
        "import matplotlib.pyplot as plt\n",
        "from scipy.spatial import distance_matrix"
      ]
    },
    {
      "cell_type": "code",
      "execution_count": 29,
      "metadata": {
        "trusted": true
      },
      "outputs": [
        {
          "data": {
            "text/plain": [
              "<matplotlib.image.AxesImage at 0x1dffad4c550>"
            ]
          },
          "execution_count": 29,
          "metadata": {},
          "output_type": "execute_result"
        },
        {
          "data": {
            "image/png": "[encoded data removed]",
            "text/plain": [
              "<Figure size 640x480 with 1 Axes>"
            ]
          },
          "metadata": {},
          "output_type": "display_data"
        },
        {
          "data": {
            "image/png": "[encoded data removed]",
            "text/plain": [
              "<Figure size 640x480 with 1 Axes>"
            ]
          },
          "metadata": {},
          "output_type": "display_data"
        },
        {
          "data": {
            "image/png": "[encoded data removed]",
            "text/plain": [
              "<Figure size 640x480 with 1 Axes>"
            ]
          },
          "metadata": {},
          "output_type": "display_data"
        }
      ],
      "source": [
        "dpts = [(3,3),(4,5),(4.5,6),(9,7)]\n",
        "\n",
        "plot,plotAxis = plt.subplots()\n",
        "\n",
        "plotAxis.plot(*list(zip(*dpts)))\n",
        "\n",
        "c = np.array([(1,2),(3,1),(0,1),(2,2)])\n",
        "d = np.array([(12,9),(8,10),(11,11),(14,13)])\n",
        "\n",
        "scatter,scatterAxis = plt.subplots()\n",
        "\n",
        "scatterAxis.scatter(*list(zip(*c)), c=\"#ff0000\")\n",
        "scatterAxis.scatter(*list(zip(*d)), c=\"#00ff00\")\n",
        "scatterAxis.set_xlabel(\"Zeitdauer\")\n",
        "scatterAxis.set_ylabel(\"Geldmenge\")\n",
        "\n",
        "m = distance_matrix(c, d)\n",
        "\n",
        "heat,heatAxis = plt.subplots()\n",
        "\n",
        "heatAxis.imshow(m, cmap=\"coolwarm\")"
      ]
    },
    {
      "cell_type": "markdown",
      "metadata": {},
      "source": [
        "Zum Abschluss kommen wir zurück zur Pandas-Bibliothek (siehe Folien vom letzten Mal und https://pandas.pydata.org/pandas-docstable/): Laden sie zunächst den IMDB-Top-250-Datensatz, den sie als CSV-Datei auf Backstage finden.\n",
        "\n",
        "Lösen sie dann für diesen Datensatz folgende Aufgaben:\n",
        " * Laden sie zunächst den Datensatz mit der Pandas-Bibliothek\n",
        " * Untersuchen sie den resultierenden `DataFrame` mittels `.shape`, `.info()` und `.describe()`, welche Informationen sehen sie?\n",
        " * Lassen sie sich die ersten und die letzten zehn Einträge des Datensatzes anzeigen\n",
        " * Lassen sie sich die ersten fünf Filme anzeigen und beschränken sie sich dabei auf die Spalten `Title`, `Duration` und `Rating count`\n",
        " * Lassen sie sich die ersten fünf Filme mit dem Genre `Action` anzeigen, beschränken sie sich dabei auf die Spalten `Title` und `Genre`\n",
        " * Sortieren sie die Filme nach ihrem Merkmal `IMDB rating` und lassen sie sich die Top-10-Filme mit Namen und Bewertung anzeigen\n",
        " * Gruppieren sie die Filme nach ihrem Regisseur und lassen sie sich die Top-5-Regisseure bezüglich der Anzahl an Filmen anzeigen\n",
        " * Visualisieren sie einen Teil der Daten mit `pandas.plotting.scatter_matrix` und `groupby.DataFrameGroupBy.hist` "
      ]
    },
    {
      "cell_type": "code",
      "execution_count": 7,
      "metadata": {
        "trusted": true
      },
      "outputs": [],
      "source": [
        "import pandas as pd"
      ]
    },
    {
      "cell_type": "code",
      "execution_count": 8,
      "metadata": {
        "trusted": true
      },
      "outputs": [],
      "source": [
        "df = pd.read_csv('imdb_top_250.csv')"
      ]
    },
    {
      "cell_type": "code",
      "execution_count": 15,
      "metadata": {
        "trusted": true
      },
      "outputs": [
        {
          "name": "stdout",
          "output_type": "stream",
          "text": [
            "<class 'pandas.core.frame.DataFrame'>\n",
            "RangeIndex: 253 entries, 0 to 252\n",
            "Data columns (total 15 columns):\n",
            " #   Column       Non-Null Count  Dtype  \n",
            "---  ------       --------------  -----  \n",
            " 0   rank         250 non-null    float64\n",
            " 1   title        250 non-null    object \n",
            " 2   year         250 non-null    float64\n",
            " 3   link         250 non-null    object \n",
            " 4   linkMeta     250 non-null    object \n",
            " 5   director     250 non-null    object \n",
            " 6   starring     250 non-null    object \n",
            " 7   score        250 non-null    float64\n",
            " 8   rating       249 non-null    object \n",
            " 9   duration     249 non-null    object \n",
            " 10  genre        249 non-null    object \n",
            " 11  metadate     249 non-null    object \n",
            " 12  summarytext  249 non-null    object \n",
            " 13  creditsInfo  249 non-null    object \n",
            " 14  storyline    249 non-null    object \n",
            "dtypes: float64(3), object(12)\n",
            "memory usage: 29.8+ KB\n",
            "None\n",
            "                      title duration rating\n",
            "0                       NaN      NaN    NaN\n",
            "1  The Shawshank Redemption  2h22min      A\n",
            "2             The Godfather  2h55min      A\n",
            "3    The Godfather: Part II   |Crime     3h\n",
            "4           The Dark Knight  2h32min     UA\n",
            "                                             title   genre\n",
            "4                                  The Dark Knight  Action\n",
            "7    The Lord of the Rings: The Return of the King  Action\n",
            "13  Star Wars: Episode V - The Empire Strikes Back  Action\n",
            "14                                       Inception  Action\n",
            "18                                      The Matrix  Action\n"
          ]
        }
      ],
      "source": [
        "#print(df.shape)\n",
        "print(df.info())\n",
        "#print(df.describe())\n",
        "\n",
        "#print(df.head(10))\n",
        "#print(df.tail(10))\n",
        "\n",
        "print(df[[\"title\", \"duration\", \"rating\"]].head(5))\n",
        "\n",
        "print(df.query(\"genre == 'Action'\")[[\"title\", \"genre\"]].head(5))"
      ]
    },
    {
      "cell_type": "code",
      "execution_count": 17,
      "metadata": {
        "trusted": true
      },
      "outputs": [
        {
          "data": {
            "text/html": [
              "<div>\n",
              "<style scoped>\n",
              "    .dataframe tbody tr th:only-of-type {\n",
              "        vertical-align: middle;\n",
              "    }\n",
              "\n",
              "    .dataframe tbody tr th {\n",
              "        vertical-align: top;\n",
              "    }\n",
              "\n",
              "    .dataframe thead th {\n",
              "        text-align: right;\n",
              "    }\n",
              "</style>\n",
              "<table border=\"1\" class=\"dataframe\">\n",
              "  <thead>\n",
              "    <tr style=\"text-align: right;\">\n",
              "      <th></th>\n",
              "      <th>title</th>\n",
              "      <th>score</th>\n",
              "    </tr>\n",
              "  </thead>\n",
              "  <tbody>\n",
              "    <tr>\n",
              "      <th>1</th>\n",
              "      <td>The Shawshank Redemption</td>\n",
              "      <td>9.2</td>\n",
              "    </tr>\n",
              "    <tr>\n",
              "      <th>2</th>\n",
              "      <td>The Godfather</td>\n",
              "      <td>9.2</td>\n",
              "    </tr>\n",
              "    <tr>\n",
              "      <th>3</th>\n",
              "      <td>The Godfather: Part II</td>\n",
              "      <td>9.0</td>\n",
              "    </tr>\n",
              "    <tr>\n",
              "      <th>4</th>\n",
              "      <td>The Dark Knight</td>\n",
              "      <td>9.0</td>\n",
              "    </tr>\n",
              "    <tr>\n",
              "      <th>5</th>\n",
              "      <td>12 Angry Men</td>\n",
              "      <td>8.9</td>\n",
              "    </tr>\n",
              "    <tr>\n",
              "      <th>6</th>\n",
              "      <td>Schindler's List</td>\n",
              "      <td>8.9</td>\n",
              "    </tr>\n",
              "    <tr>\n",
              "      <th>7</th>\n",
              "      <td>The Lord of the Rings: The Return of the King</td>\n",
              "      <td>8.9</td>\n",
              "    </tr>\n",
              "    <tr>\n",
              "      <th>8</th>\n",
              "      <td>Pulp Fiction</td>\n",
              "      <td>8.9</td>\n",
              "    </tr>\n",
              "    <tr>\n",
              "      <th>9</th>\n",
              "      <td>Il buono, il brutto, il cattivo</td>\n",
              "      <td>8.8</td>\n",
              "    </tr>\n",
              "    <tr>\n",
              "      <th>10</th>\n",
              "      <td>Fight Club</td>\n",
              "      <td>8.8</td>\n",
              "    </tr>\n",
              "  </tbody>\n",
              "</table>\n",
              "</div>"
            ],
            "text/plain": [
              "                                            title  score\n",
              "1                        The Shawshank Redemption    9.2\n",
              "2                                   The Godfather    9.2\n",
              "3                          The Godfather: Part II    9.0\n",
              "4                                 The Dark Knight    9.0\n",
              "5                                    12 Angry Men    8.9\n",
              "6                                Schindler's List    8.9\n",
              "7   The Lord of the Rings: The Return of the King    8.9\n",
              "8                                    Pulp Fiction    8.9\n",
              "9                 Il buono, il brutto, il cattivo    8.8\n",
              "10                                     Fight Club    8.8"
            ]
          },
          "execution_count": 17,
          "metadata": {},
          "output_type": "execute_result"
        }
      ],
      "source": [
        "df.sort_values('score', ascending=False)[['title', 'score' ]].head(10)"
      ]
    },
    {
      "cell_type": "code",
      "execution_count": 21,
      "metadata": {
        "trusted": true
      },
      "outputs": [
        {
          "data": {
            "text/html": [
              "<div>\n",
              "<style scoped>\n",
              "    .dataframe tbody tr th:only-of-type {\n",
              "        vertical-align: middle;\n",
              "    }\n",
              "\n",
              "    .dataframe tbody tr th {\n",
              "        vertical-align: top;\n",
              "    }\n",
              "\n",
              "    .dataframe thead th {\n",
              "        text-align: right;\n",
              "    }\n",
              "</style>\n",
              "<table border=\"1\" class=\"dataframe\">\n",
              "  <thead>\n",
              "    <tr style=\"text-align: right;\">\n",
              "      <th></th>\n",
              "      <th>rank</th>\n",
              "      <th>title</th>\n",
              "      <th>year</th>\n",
              "      <th>link</th>\n",
              "      <th>linkMeta</th>\n",
              "      <th>starring</th>\n",
              "      <th>score</th>\n",
              "      <th>rating</th>\n",
              "      <th>duration</th>\n",
              "      <th>genre</th>\n",
              "      <th>metadate</th>\n",
              "      <th>summarytext</th>\n",
              "      <th>creditsInfo</th>\n",
              "      <th>storyline</th>\n",
              "    </tr>\n",
              "    <tr>\n",
              "      <th>director</th>\n",
              "      <th></th>\n",
              "      <th></th>\n",
              "      <th></th>\n",
              "      <th></th>\n",
              "      <th></th>\n",
              "      <th></th>\n",
              "      <th></th>\n",
              "      <th></th>\n",
              "      <th></th>\n",
              "      <th></th>\n",
              "      <th></th>\n",
              "      <th></th>\n",
              "      <th></th>\n",
              "      <th></th>\n",
              "    </tr>\n",
              "  </thead>\n",
              "  <tbody>\n",
              "    <tr>\n",
              "      <th>Christopher Nolan</th>\n",
              "      <td>7</td>\n",
              "      <td>7</td>\n",
              "      <td>7</td>\n",
              "      <td>7</td>\n",
              "      <td>7</td>\n",
              "      <td>7</td>\n",
              "      <td>7</td>\n",
              "      <td>7</td>\n",
              "      <td>7</td>\n",
              "      <td>7</td>\n",
              "      <td>7</td>\n",
              "      <td>7</td>\n",
              "      <td>7</td>\n",
              "      <td>7</td>\n",
              "    </tr>\n",
              "    <tr>\n",
              "      <th>Steven Spielberg</th>\n",
              "      <td>7</td>\n",
              "      <td>7</td>\n",
              "      <td>7</td>\n",
              "      <td>7</td>\n",
              "      <td>7</td>\n",
              "      <td>7</td>\n",
              "      <td>7</td>\n",
              "      <td>7</td>\n",
              "      <td>7</td>\n",
              "      <td>7</td>\n",
              "      <td>7</td>\n",
              "      <td>7</td>\n",
              "      <td>7</td>\n",
              "      <td>7</td>\n",
              "    </tr>\n",
              "    <tr>\n",
              "      <th>Stanley Kubrick</th>\n",
              "      <td>7</td>\n",
              "      <td>7</td>\n",
              "      <td>7</td>\n",
              "      <td>7</td>\n",
              "      <td>7</td>\n",
              "      <td>7</td>\n",
              "      <td>7</td>\n",
              "      <td>7</td>\n",
              "      <td>7</td>\n",
              "      <td>7</td>\n",
              "      <td>7</td>\n",
              "      <td>7</td>\n",
              "      <td>7</td>\n",
              "      <td>7</td>\n",
              "    </tr>\n",
              "    <tr>\n",
              "      <th>Martin Scorsese</th>\n",
              "      <td>7</td>\n",
              "      <td>7</td>\n",
              "      <td>7</td>\n",
              "      <td>7</td>\n",
              "      <td>7</td>\n",
              "      <td>7</td>\n",
              "      <td>7</td>\n",
              "      <td>7</td>\n",
              "      <td>7</td>\n",
              "      <td>7</td>\n",
              "      <td>7</td>\n",
              "      <td>7</td>\n",
              "      <td>7</td>\n",
              "      <td>7</td>\n",
              "    </tr>\n",
              "    <tr>\n",
              "      <th>Akira Kurosawa</th>\n",
              "      <td>6</td>\n",
              "      <td>6</td>\n",
              "      <td>6</td>\n",
              "      <td>6</td>\n",
              "      <td>6</td>\n",
              "      <td>6</td>\n",
              "      <td>6</td>\n",
              "      <td>6</td>\n",
              "      <td>6</td>\n",
              "      <td>6</td>\n",
              "      <td>6</td>\n",
              "      <td>6</td>\n",
              "      <td>6</td>\n",
              "      <td>6</td>\n",
              "    </tr>\n",
              "  </tbody>\n",
              "</table>\n",
              "</div>"
            ],
            "text/plain": [
              "                   rank  title  year  link  linkMeta  starring  score  rating  \\\n",
              "director                                                                        \n",
              "Christopher Nolan     7      7     7     7         7         7      7       7   \n",
              "Steven Spielberg      7      7     7     7         7         7      7       7   \n",
              "Stanley Kubrick       7      7     7     7         7         7      7       7   \n",
              "Martin Scorsese       7      7     7     7         7         7      7       7   \n",
              "Akira Kurosawa        6      6     6     6         6         6      6       6   \n",
              "\n",
              "                   duration  genre  metadate  summarytext  creditsInfo  \\\n",
              "director                                                                 \n",
              "Christopher Nolan         7      7         7            7            7   \n",
              "Steven Spielberg          7      7         7            7            7   \n",
              "Stanley Kubrick           7      7         7            7            7   \n",
              "Martin Scorsese           7      7         7            7            7   \n",
              "Akira Kurosawa            6      6         6            6            6   \n",
              "\n",
              "                   storyline  \n",
              "director                      \n",
              "Christopher Nolan          7  \n",
              "Steven Spielberg           7  \n",
              "Stanley Kubrick            7  \n",
              "Martin Scorsese            7  \n",
              "Akira Kurosawa             6  "
            ]
          },
          "execution_count": 21,
          "metadata": {},
          "output_type": "execute_result"
        }
      ],
      "source": [
        "df.groupby('director').count().sort_values('title', ascending=False).head(5)"
      ]
    },
    {
      "cell_type": "code",
      "execution_count": 22,
      "metadata": {
        "trusted": true
      },
      "outputs": [
        {
          "data": {
            "image/png": "[encoded data removed]",
            "text/plain": [
              "<Figure size 640x480 with 4 Axes>"
            ]
          },
          "metadata": {},
          "output_type": "display_data"
        }
      ],
      "source": [
        "pd.plotting.scatter_matrix(df[['year', 'score', 'rating']])\n",
        "plt.show()"
      ]
    },
    {
      "cell_type": "code",
      "execution_count": 25,
      "metadata": {
        "trusted": true
      },
      "outputs": [
        {
          "data": {
            "text/plain": [
              "array([[<Axes: title={'center': 'rank'}>,\n",
              "        <Axes: title={'center': 'year'}>],\n",
              "       [<Axes: title={'center': 'score'}>, <Axes: >]], dtype=object)"
            ]
          },
          "execution_count": 25,
          "metadata": {},
          "output_type": "execute_result"
        },
        {
          "data": {
            "image/png": "[encoded data removed]",
            "text/plain": [
              "<Figure size 640x480 with 4 Axes>"
            ]
          },
          "metadata": {},
          "output_type": "display_data"
        }
      ],
      "source": [
        "df.groupby('director').head(1).hist()"
      ]
    }
  ],
  "metadata": {
    "kernelspec": {
      "display_name": "Python 3",
      "language": "python",
      "name": "python3"
    },
    "language_info": {
      "codemirror_mode": {
        "name": "ipython",
        "version": 3
      },
      "file_extension": ".py",
      "mimetype": "text/x-python",
      "name": "python",
      "nbconvert_exporter": "python",
      "pygments_lexer": "ipython3",
      "version": "3.13.0"
    }
  },
  "nbformat": 4,
  "nbformat_minor": 4
}
