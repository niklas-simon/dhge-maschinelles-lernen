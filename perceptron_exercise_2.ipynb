{
 "cells": [
  {
   "cell_type": "markdown",
   "id": "588594ca",
   "metadata": {},
   "source": [
    "Perceptron trainieren für Datensatz:\n",
    "\n",
    "a|b|c|y\n",
    "-|-|-|-\n",
    "-3|2|4|0\n",
    "1|0|-4|0\n",
    "3|2|3|1\n",
    "\n",
    "Startwerte: $w^t=(0,0,0,0)$, $\\alpha=1$"
   ]
  },
  {
   "cell_type": "markdown",
   "id": "8431e29f",
   "metadata": {},
   "source": [
    "Formeln:\n",
    "- Ausgabe Perzeptron: $\\^{y} = X * w \\geq 0$\n",
    "- Fehler der Ausgabe: $\\delta = y - \\^{y}$\n",
    "- Änderung Gewichte: $\\Delta w = X^t * \\delta$\n",
    "- Anpassung Gewichte: $w = w + \\alpha * \\Delta w$"
   ]
  },
  {
   "cell_type": "code",
   "execution_count": 21,
   "id": "1fb265a7",
   "metadata": {},
   "outputs": [
    {
     "name": "stdout",
     "output_type": "stream",
     "text": [
      "epoch 1: delta=[[-1 -1  0]] weights=[[-2  2 -2  0]]\n",
      "epoch 2: delta=[[ 0 -1  0]] weights=[[-3  1 -2  4]]\n",
      "epoch 3: delta=[[-1  0  0]] weights=[[-4  4 -4  0]]\n",
      "epoch 4: delta=[[ 0 -1  0]] weights=[[-5  3 -4  4]]\n",
      "epoch 5: delta=[[0 0 0]] weights=[[-5  3 -4  4]]\n",
      "epoch 6: delta=[[0 0 0]] weights=[[-5  3 -4  4]]\n"
     ]
    }
   ],
   "source": [
    "import numpy as np\n",
    "\n",
    "data = np.matrix([\n",
    "    [-3, 2, 4, 0],\n",
    "    [1, 0, -4, 0],\n",
    "    [3, 2, 3, 1]\n",
    "])\n",
    "\n",
    "y = np.array([data[i, 3] for i in range(len(data))])\n",
    "x = np.matrix([[1, data[i, 0], data[i, 1], data[i, 2]] for i in range(len(data))])\n",
    "\n",
    "w = np.matrix([[0,0,0,0]]).T\n",
    "a = 1\n",
    "\n",
    "for epoch in range(6):\n",
    "    y_p = [1 if (x * w)[i] >= 0 else 0 for i in range(len(y))]\n",
    "    delta = np.matrix([[y[i] - y_p[i] for i in range(len(y))]]).T\n",
    "    d_w = x.T * delta\n",
    "    w = w + a * d_w\n",
    "\n",
    "    print(f\"epoch {epoch + 1}: delta={delta.T} weights={w.T}\")"
   ]
  }
 ],
 "metadata": {
  "kernelspec": {
   "display_name": "Python 3",
   "language": "python",
   "name": "python3"
  },
  "language_info": {
   "codemirror_mode": {
    "name": "ipython",
    "version": 3
   },
   "file_extension": ".py",
   "mimetype": "text/x-python",
   "name": "python",
   "nbconvert_exporter": "python",
   "pygments_lexer": "ipython3",
   "version": "3.13.0"
  }
 },
 "nbformat": 4,
 "nbformat_minor": 5
}
